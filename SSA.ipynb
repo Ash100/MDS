{
  "nbformat": 4,
  "nbformat_minor": 0,
  "metadata": {
    "colab": {
      "provenance": [],
      "gpuType": "T4",
      "authorship_tag": "ABX9TyNtU0TvL+9Zf2oLSTk7/sTi",
      "include_colab_link": true
    },
    "kernelspec": {
      "name": "python3",
      "display_name": "Python 3"
    },
    "language_info": {
      "name": "python"
    },
    "accelerator": "GPU"
  },
  "cells": [
    {
      "cell_type": "markdown",
      "metadata": {
        "id": "view-in-github",
        "colab_type": "text"
      },
      "source": [
        "<a href=\"https://colab.research.google.com/github/Ash100/MDS/blob/main/SSA.ipynb\" target=\"_parent\"><img src=\"https://colab.research.google.com/assets/colab-badge.svg\" alt=\"Open In Colab\"/></a>"
      ]
    },
    {
      "cell_type": "markdown",
      "source": [
        "# Solvent-Accessible Surface Area (SASA) analysis\n",
        "\n",
        "This notebook is designed by **Dr. Ashfaq Ahmad**, and can be used for research purposes. To watch a complete video demonstration, [click here](https://youtu.be/nKOb3MT5sMo)\n",
        "\n",
        "We will perform these analysis using AmberTools.\n",
        "\n",
        "Citation: https://pubs.acs.org/doi/10.1021/acs.jcim.3c01153"
      ],
      "metadata": {
        "id": "kr-U6WSSdIJk"
      }
    },
    {
      "cell_type": "code",
      "source": [
        "#@title setting the environment\n",
        "!pip install -q condacolab\n",
        "import condacolab\n",
        "condacolab.install()"
      ],
      "metadata": {
        "id": "_ploahESmfri",
        "cellView": "form"
      },
      "execution_count": null,
      "outputs": []
    },
    {
      "cell_type": "code",
      "source": [
        "#@title install AmberTools\n",
        "!conda install -y -c conda-forge ambertools"
      ],
      "metadata": {
        "id": "Hml0-Jb6mjPR",
        "cellView": "form"
      },
      "execution_count": null,
      "outputs": []
    },
    {
      "cell_type": "code",
      "source": [
        "#@title Install pytraj\n",
        "!pip install -q pytraj"
      ],
      "metadata": {
        "id": "Zs4f43ptpgHV",
        "cellView": "form"
      },
      "execution_count": 2,
      "outputs": []
    },
    {
      "cell_type": "code",
      "execution_count": 3,
      "metadata": {
        "colab": {
          "base_uri": "https://localhost:8080/"
        },
        "id": "JwuAuFxTlJbI",
        "outputId": "22db2ef2-0280-4a1f-edd0-b6000590c8cc",
        "cellView": "form"
      },
      "outputs": [
        {
          "output_type": "stream",
          "name": "stdout",
          "text": [
            "Mounted at /content/drive\n"
          ]
        }
      ],
      "source": [
        "#@title connect you Gdrive\n",
        "from google.colab import drive\n",
        "drive.mount('/content/drive')"
      ]
    },
    {
      "cell_type": "code",
      "source": [
        "import pytraj as pt\n",
        "\n",
        "# Example paths\n",
        "dcd_path = \"/content/drive/MyDrive/Dr_Zeeshan/test/prot_lig_prod1-20_whole.dcd\"\n",
        "pdb_path = \"/content/drive/MyDrive/Dr_Zeeshan/test/prot_lig_equil.pdb\"\n",
        "\n",
        "# Load trajectory\n",
        "traj = pt.load(dcd_path, top=pdb_path)"
      ],
      "metadata": {
        "id": "i37XD2dPlRIS"
      },
      "execution_count": 4,
      "outputs": []
    },
    {
      "cell_type": "markdown",
      "source": [
        "### Generating SASA.in file is not that simple to click. It needs a proper probing of ligand residue present in your complex. How to probe ligand effectively? For complete detail, [watch here](https://youtu.be/nKOb3MT5sMo)"
      ],
      "metadata": {
        "id": "uyWQ03uZh7D2"
      }
    },
    {
      "cell_type": "code",
      "source": [
        "#@title writing sasa.in file\n",
        "%%writefile cpptraj_sasa.in\n",
        "parm /content/drive/MyDrive/Dr_Zeeshan/test/prot_lig_equil.pdb\n",
        "\n",
        "# Load full system trajectory (protein + ligand + solvent)\n",
        "trajin /content/drive/MyDrive/Dr_Zeeshan/test/prot_lig_prod1-20_whole.dcd\n",
        "strip @H=\n",
        "surf complex_sasa out complex_sasa.dat\n",
        "run\n",
        "clear all\n",
        "\n",
        "# Protein only (residues 1 to 487)\n",
        "parm /content/drive/MyDrive/Dr_Zeeshan/test/prot_lig_equil.pdb\n",
        "trajin /content/drive/MyDrive/Dr_Zeeshan/test/prot_lig_prod1-20_whole.dcd\n",
        "strip !:1-403\n",
        "strip @H=\n",
        "trajout protein.dcd\n",
        "trajout protein.pdb pdb\n",
        "run\n",
        "clear all\n",
        "\n",
        "parm protein.pdb\n",
        "trajin protein.dcd\n",
        "surf protein_sasa out protein_sasa.dat\n",
        "run\n",
        "clear all\n",
        "\n",
        "# Ligand only (residue 404)\n",
        "parm /content/drive/MyDrive/Dr_Zeeshan/test/prot_lig_equil.pdb\n",
        "trajin /content/drive/MyDrive/Dr_Zeeshan/test/prot_lig_prod1-20_whole.dcd\n",
        "strip !:404\n",
        "strip @H=\n",
        "trajout ligand.dcd\n",
        "trajout ligand.pdb pdb\n",
        "run\n",
        "clear all\n",
        "\n",
        "parm ligand.pdb\n",
        "trajin ligand.dcd\n",
        "surf ligand_sasa out ligand_sasa.dat\n",
        "run"
      ],
      "metadata": {
        "id": "83b5mndPp_vF",
        "cellView": "form"
      },
      "execution_count": null,
      "outputs": []
    },
    {
      "cell_type": "code",
      "source": [
        "#@title executing sasa.in in cpptraj\n",
        "!cpptraj -i cpptraj_sasa.in\n"
      ],
      "metadata": {
        "id": "XkHtX_wkqI9N",
        "cellView": "form"
      },
      "execution_count": null,
      "outputs": []
    },
    {
      "cell_type": "code",
      "source": [
        "#@title validating lengths\n",
        "import numpy as np\n",
        "\n",
        "sasa_protein = np.loadtxt(\"protein_sasa.dat\", usecols=1)\n",
        "sasa_ligand = np.loadtxt(\"ligand_sasa.dat\", usecols=1)\n",
        "sasa_complex = np.loadtxt(\"complex_sasa.dat\", usecols=1)\n",
        "\n",
        "frames_protein = np.arange(len(sasa_protein))\n",
        "frames_ligand = np.arange(len(sasa_ligand))\n",
        "frames_complex = np.arange(len(sasa_complex))\n",
        "\n",
        "print(\"Lengths:\")\n",
        "print(f\"Protein SASA: {len(sasa_protein)}\")\n",
        "print(f\"Ligand SASA: {len(sasa_ligand)}\")\n",
        "print(f\"Complex SASA: {len(sasa_complex)}\")\n"
      ],
      "metadata": {
        "id": "Xq3sYFn_qmsd",
        "cellView": "form"
      },
      "execution_count": null,
      "outputs": []
    },
    {
      "cell_type": "code",
      "source": [
        "#@title plot protein SASA\n",
        "import matplotlib.pyplot as plt\n",
        "\n",
        "plt.figure(figsize=(8, 4))\n",
        "plt.plot(frames_protein, sasa_protein, color='steelblue', label='Protein SASA')\n",
        "plt.xlabel(\"Frame\")\n",
        "plt.ylabel(\"SASA (Å²)\")\n",
        "plt.title(\"Protein SASA Over Time\")\n",
        "plt.grid(True)\n",
        "plt.legend()\n",
        "plt.tight_layout()\n",
        "plt.savefig(\"/content/test_protein.png\", dpi=600)\n",
        "plt.show()\n"
      ],
      "metadata": {
        "id": "Kkq5eK9X4D6y",
        "cellView": "form"
      },
      "execution_count": null,
      "outputs": []
    },
    {
      "cell_type": "code",
      "source": [
        "#@title plot Ligand SASA\n",
        "plt.figure(figsize=(8, 4))\n",
        "plt.plot(frames_ligand, sasa_ligand, color='seagreen', label='Test Ligand SASA')\n",
        "plt.xlabel(\"Frame\")\n",
        "plt.ylabel(\"SASA (Å²)\")\n",
        "plt.title(\"Ligand SASA Over Time\")\n",
        "plt.grid(True)\n",
        "plt.legend()\n",
        "plt.tight_layout()\n",
        "plt.savefig(\"/content/ligand_sasa_plot.png\", dpi=600)\n",
        "plt.show()\n"
      ],
      "metadata": {
        "id": "2yyJ2ps94IFC",
        "cellView": "form"
      },
      "execution_count": null,
      "outputs": []
    },
    {
      "cell_type": "code",
      "source": [
        "min_len = min(len(sasa_protein), len(sasa_ligand), len(sasa_complex))\n",
        "bsa = sasa_protein[:min_len] + sasa_ligand[:min_len] - sasa_complex[:min_len]\n"
      ],
      "metadata": {
        "id": "JyK7rgBT4WAV"
      },
      "execution_count": 11,
      "outputs": []
    },
    {
      "cell_type": "code",
      "source": [
        "#@title plot complex SASA\n",
        "plt.figure(figsize=(8, 4))\n",
        "plt.plot(frames_complex, sasa_complex, color='orange', label='Complex SASA')\n",
        "plt.xlabel(\"Frame\")\n",
        "plt.ylabel(\"SASA (Å²)\")\n",
        "plt.title(\"Complex SASA Over Time\")\n",
        "plt.grid(True)\n",
        "plt.legend()\n",
        "plt.tight_layout()\n",
        "plt.savefig(\"/content/complex_sasa_plot.png\", dpi=600)\n",
        "plt.show()\n"
      ],
      "metadata": {
        "id": "DCFnJ3CC4Nq6",
        "cellView": "form"
      },
      "execution_count": null,
      "outputs": []
    },
    {
      "cell_type": "code",
      "source": [
        "#@title calculate BSA and plot\n",
        "bsa = sasa_protein[:min_len] + sasa_ligand[:min_len] - sasa_complex[:min_len]\n",
        "\n",
        "plt.figure(figsize=(8, 4))\n",
        "plt.plot(np.arange(len(bsa)), bsa, color='crimson', label='Buried Surface Area (BSA)')\n",
        "plt.xlabel(\"Frame\")\n",
        "plt.ylabel(\"SASA (Å²)\")\n",
        "plt.title(\"Buried Surface Area Over Time\")\n",
        "plt.grid(True)\n",
        "plt.legend()\n",
        "plt.tight_layout()\n",
        "plt.savefig(\"/content/bsa_plot_600dpi.png\", dpi=600)\n",
        "plt.show()\n"
      ],
      "metadata": {
        "id": "_DBhR6nD46hy",
        "cellView": "form"
      },
      "execution_count": null,
      "outputs": []
    },
    {
      "cell_type": "markdown",
      "source": [
        "I believe you learnt something new, and I did not waste time.\n",
        "\n",
        "Please support my work by subscribing to [Bioinformatics Insights](https://youtube.com/@bioinformaticsinsights?si=ExMr3iD26LZYob7Q)"
      ],
      "metadata": {
        "id": "LOSphGRazzeZ"
      }
    }
  ]
}